{
 "cells": [
  {
   "cell_type": "code",
   "execution_count": 1,
   "metadata": {
    "ExecuteTime": {
     "end_time": "2020-06-21T17:18:51.398811Z",
     "start_time": "2020-06-21T17:18:50.507894Z"
    }
   },
   "outputs": [
    {
     "name": "stderr",
     "output_type": "stream",
     "text": [
      "D:\\Anaconda\\lib\\site-packages\\statsmodels\\tools\\_testing.py:19: FutureWarning: pandas.util.testing is deprecated. Use the functions in the public API at pandas.testing instead.\n",
      "  import pandas.util.testing as tm\n"
     ]
    }
   ],
   "source": [
    "import pandas as pd\n",
    "import seaborn as sns\n",
    "import numpy as np"
   ]
  },
  {
   "cell_type": "code",
   "execution_count": 2,
   "metadata": {
    "ExecuteTime": {
     "end_time": "2020-06-21T17:18:51.420753Z",
     "start_time": "2020-06-21T17:18:51.416763Z"
    }
   },
   "outputs": [],
   "source": [
    "# creating matrices with random integer values\n",
    "\n",
    "matrix_of_features = np.random.randint(100, size=(10, 5))\n",
    "comparison_matrix = np.random.randint(100, size=(10,1))"
   ]
  },
  {
   "cell_type": "code",
   "execution_count": 3,
   "metadata": {
    "ExecuteTime": {
     "end_time": "2020-06-21T17:18:51.443854Z",
     "start_time": "2020-06-21T17:18:51.438892Z"
    }
   },
   "outputs": [],
   "source": [
    "# converting matrices to dataframes\n",
    "\n",
    "df_features = pd.DataFrame(matrix_of_features, columns=['a','b','c','d','e'])\n",
    "df_comparison = pd.DataFrame(comparison_matrix, columns=['x'])"
   ]
  },
  {
   "cell_type": "code",
   "execution_count": 5,
   "metadata": {
    "ExecuteTime": {
     "end_time": "2020-06-21T17:19:14.258514Z",
     "start_time": "2020-06-21T17:19:14.252531Z"
    }
   },
   "outputs": [
    {
     "name": "stdout",
     "output_type": "stream",
     "text": [
      "    x   a   b   c   d   e\n",
      "0  75  59  80   3  80  23\n",
      "1  12  42  44  35  40  16\n",
      "2  34  14  94  69  58  10\n",
      "3  45  57  96  17  90  15\n",
      "4  93  12  55  33  59  32\n",
      "5  38  15  69   9  84  42\n",
      "6  61  90  21  60  61  45\n",
      "7  79  13  73  64  44  92\n",
      "8  17  41  31  30  34  52\n",
      "9  70  93  35  21  87  64\n"
     ]
    }
   ],
   "source": [
    "# concatenating dataframes into one\n",
    "\n",
    "df_full_dataset = pd.concat([df_comparison, df_features], axis=1)"
   ]
  },
  {
   "cell_type": "code",
   "execution_count": 6,
   "metadata": {
    "ExecuteTime": {
     "end_time": "2020-06-21T17:19:25.010877Z",
     "start_time": "2020-06-21T17:19:25.001900Z"
    }
   },
   "outputs": [
    {
     "name": "stdout",
     "output_type": "stream",
     "text": [
      "          x         a         b         c         d         e\n",
      "x  1.000000  0.069909  0.071873 -0.000943  0.329256  0.379551\n",
      "a  0.069909  1.000000 -0.492694 -0.206566  0.363202  0.044858\n",
      "b  0.071873 -0.492694  1.000000 -0.082796  0.364031 -0.373067\n",
      "c -0.000943 -0.206566 -0.082796  1.000000 -0.586611  0.217872\n",
      "d  0.329256  0.363202  0.364031 -0.586611  1.000000 -0.200851\n",
      "e  0.379551  0.044858 -0.373067  0.217872 -0.200851  1.000000\n"
     ]
    }
   ],
   "source": [
    "# getting the correlations\n",
    "\n",
    "factorCorrelation = df_full_dataset.corr()\n",
    "print(factorCorrelation)"
   ]
  },
  {
   "cell_type": "code",
   "execution_count": 7,
   "metadata": {
    "ExecuteTime": {
     "end_time": "2020-06-21T17:20:04.410737Z",
     "start_time": "2020-06-21T17:20:01.327919Z"
    }
   },
   "outputs": [
    {
     "data": {
      "text/plain": [
       "<matplotlib.axes._subplots.AxesSubplot at 0x1f49ab23208>"
      ]
     },
     "execution_count": 7,
     "metadata": {},
     "output_type": "execute_result"
    },
    {
     "data": {
      "image/png": "[encoded data removed]",
      "text/plain": [
       "<Figure size 432x288 with 2 Axes>"
      ]
     },
     "metadata": {
      "needs_background": "light"
     },
     "output_type": "display_data"
    }
   ],
   "source": [
    "# generating a heatmap for visualization\n",
    "\n",
    "sns.heatmap(factorCorrelation)"
   ]
  }
 ],
 "metadata": {
  "kernelspec": {
   "display_name": "Python 3.7.6 64-bit ('base': conda)",
   "language": "python",
   "name": "python37664bitbasecondafa793547d4184c1c8495eab5181f4ddb"
  },
  "language_info": {
   "codemirror_mode": {
    "name": "ipython",
    "version": 3
   },
   "file_extension": ".py",
   "mimetype": "text/x-python",
   "name": "python",
   "nbconvert_exporter": "python",
   "pygments_lexer": "ipython3",
   "version": "3.7.6"
  },
  "varInspector": {
   "cols": {
    "lenName": 16,
    "lenType": 16,
    "lenVar": 40
   },
   "kernels_config": {
    "python": {
     "delete_cmd_postfix": "",
     "delete_cmd_prefix": "del ",
     "library": "var_list.py",
     "varRefreshCmd": "print(var_dic_list())"
    },
    "r": {
     "delete_cmd_postfix": ") ",
     "delete_cmd_prefix": "rm(",
     "library": "var_list.r",
     "varRefreshCmd": "cat(var_dic_list()) "
    }
   },
   "types_to_exclude": [
    "module",
    "function",
    "builtin_function_or_method",
    "instance",
    "_Feature"
   ],
   "window_display": false
  }
 },
 "nbformat": 4,
 "nbformat_minor": 2
}
